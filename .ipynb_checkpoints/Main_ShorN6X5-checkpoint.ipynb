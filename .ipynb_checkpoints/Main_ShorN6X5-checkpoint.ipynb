{
 "cells": [
  {
   "cell_type": "code",
   "execution_count": 5,
   "id": "6c9e457a",
   "metadata": {},
   "outputs": [],
   "source": [
    "from ShorAlgorithm import ShorN6X5, ShorN21X4, ShorN35X16, ShorN65X16"
   ]
  },
  {
   "cell_type": "code",
   "execution_count": 6,
   "id": "41d735a2",
   "metadata": {},
   "outputs": [
    {
     "name": "stderr",
     "output_type": "stream",
     "text": [
      "ibmqfactory.load_account:WARNING:2022-12-26 16:00:10,353: Credentials are already in use. The existing account in the session will be replaced.\n"
     ]
    },
    {
     "name": "stdout",
     "output_type": "stream",
     "text": [
      "ibmq_qasm_simulator\n",
      "ibmq_montreal\n",
      "ibmq_toronto\n",
      "ibmq_kolkata\n",
      "ibmq_mumbai\n",
      "ibmq_lima\n",
      "ibmq_belem\n",
      "ibmq_quito\n",
      "ibmq_guadalupe\n",
      "simulator_statevector\n",
      "simulator_mps\n",
      "simulator_extended_stabilizer\n",
      "simulator_stabilizer\n",
      "ibmq_jakarta\n",
      "ibmq_manila\n",
      "ibm_hanoi\n",
      "ibm_lagos\n",
      "ibm_nairobi\n",
      "ibm_cairo\n",
      "ibm_auckland\n",
      "ibm_perth\n",
      "ibm_washington\n",
      "ibm_oslo\n",
      "ibm_geneva\n",
      "ibm_sherbrooke\n"
     ]
    }
   ],
   "source": [
    "from qiskit import IBMQ\n",
    "\n",
    "provider = IBMQ.load_account()\n",
    "my_provider = IBMQ.get_provider(hub='ibm-q-skku', group='kaist', project='kaist-graduate')\n",
    "backends = my_provider.backends()\n",
    "\n",
    "for backend in backends:\n",
    "    print(backend) # only available for 7-qubit device"
   ]
  },
  {
   "cell_type": "code",
   "execution_count": 8,
   "id": "003e066f",
   "metadata": {},
   "outputs": [
    {
     "ename": "TypeError",
     "evalue": "__init__() got an unexpected keyword argument 'IsTwirl'",
     "output_type": "error",
     "traceback": [
      "\u001b[1;31m---------------------------------------------------------------------------\u001b[0m",
      "\u001b[1;31mTypeError\u001b[0m                                 Traceback (most recent call last)",
      "\u001b[1;32m<ipython-input-8-9b2be9831ad9>\u001b[0m in \u001b[0;36m<module>\u001b[1;34m\u001b[0m\n\u001b[1;32m----> 1\u001b[1;33m \u001b[0mShorN6X5\u001b[0m\u001b[1;33m(\u001b[0m\u001b[0mbackend_name\u001b[0m\u001b[1;33m=\u001b[0m\u001b[1;34m\"ibmq_qasm_simulator\"\u001b[0m\u001b[1;33m,\u001b[0m \u001b[0mIsTwirl\u001b[0m\u001b[1;33m=\u001b[0m\u001b[1;32mFalse\u001b[0m\u001b[1;33m)\u001b[0m\u001b[1;33m.\u001b[0m\u001b[0mSimulationQC\u001b[0m\u001b[1;33m(\u001b[0m\u001b[1;33m)\u001b[0m\u001b[1;33m\u001b[0m\u001b[1;33m\u001b[0m\u001b[0m\n\u001b[0m",
      "\u001b[1;31mTypeError\u001b[0m: __init__() got an unexpected keyword argument 'IsTwirl'"
     ]
    }
   ],
   "source": [
    "ShorN6X5(shots=1000, backend_name=\"ibmq_qasm_simulator\", IsTwirl=False).SimulationQC()"
   ]
  },
  {
   "cell_type": "code",
   "execution_count": null,
   "id": "a09fce32",
   "metadata": {},
   "outputs": [],
   "source": []
  },
  {
   "cell_type": "code",
   "execution_count": null,
   "id": "48ca497c",
   "metadata": {},
   "outputs": [],
   "source": []
  }
 ],
 "metadata": {
  "kernelspec": {
   "display_name": "Python 3",
   "language": "python",
   "name": "python3"
  },
  "language_info": {
   "codemirror_mode": {
    "name": "ipython",
    "version": 3
   },
   "file_extension": ".py",
   "mimetype": "text/x-python",
   "name": "python",
   "nbconvert_exporter": "python",
   "pygments_lexer": "ipython3",
   "version": "3.8.8"
  }
 },
 "nbformat": 4,
 "nbformat_minor": 5
}
