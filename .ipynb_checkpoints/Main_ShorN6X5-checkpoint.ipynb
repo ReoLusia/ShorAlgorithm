{
 "cells": [
  {
   "cell_type": "code",
   "execution_count": 1,
   "id": "6c9e457a",
   "metadata": {},
   "outputs": [],
   "source": [
    "from ShorAlgorithm import ShorN6X5"
   ]
  },
  {
   "cell_type": "code",
   "execution_count": 2,
   "id": "41d735a2",
   "metadata": {},
   "outputs": [
    {
     "name": "stdout",
     "output_type": "stream",
     "text": [
      "ibmq_qasm_simulator\n",
      "ibmq_montreal\n",
      "ibmq_toronto\n",
      "ibmq_kolkata\n",
      "ibmq_mumbai\n",
      "ibmq_lima\n",
      "ibmq_belem\n",
      "ibmq_quito\n",
      "ibmq_guadalupe\n",
      "simulator_statevector\n",
      "simulator_mps\n",
      "simulator_extended_stabilizer\n",
      "simulator_stabilizer\n",
      "ibmq_jakarta\n",
      "ibmq_manila\n",
      "ibm_hanoi\n",
      "ibm_lagos\n",
      "ibm_nairobi\n",
      "ibm_cairo\n",
      "ibm_auckland\n",
      "ibm_perth\n",
      "ibm_washington\n",
      "ibm_oslo\n",
      "ibm_geneva\n",
      "ibm_sherbrooke\n"
     ]
    }
   ],
   "source": [
    "from qiskit import IBMQ\n",
    "\n",
    "provider = IBMQ.load_account()\n",
    "my_provider = IBMQ.get_provider(hub='ibm-q-skku', group='kaist', project='kaist-graduate')\n",
    "backends = my_provider.backends()\n",
    "\n",
    "for backend in backends:\n",
    "    print(backend) # only available for 7-qubit device"
   ]
  },
  {
   "cell_type": "code",
   "execution_count": 3,
   "id": "003e066f",
   "metadata": {},
   "outputs": [
    {
     "name": "stderr",
     "output_type": "stream",
     "text": [
      "ibmqfactory.load_account:WARNING:2022-12-26 17:01:20,891: Credentials are already in use. The existing account in the session will be replaced.\n"
     ]
    },
    {
     "name": "stdout",
     "output_type": "stream",
     "text": [
      "==================================================\n",
      "Name of Backend : ibmq_qasm_simulator\n",
      "Number of Total Shots : 1000\n",
      "Transpiled Quantum Circuit Depth : 547\n",
      "Simulation Result (counts) : {'0000': 496, '1000': 504}\n",
      "==================================================\n"
     ]
    },
    {
     "data": {
      "image/png": "[encoded data removed]",
      "text/plain": [
       "<Figure size 504x360 with 1 Axes>"
      ]
     },
     "execution_count": 3,
     "metadata": {},
     "output_type": "execute_result"
    }
   ],
   "source": [
    "ShorN6X5(shots=1000, backend_name=\"ibmq_qasm_simulator\", IsTwirl=False).SimulationQC()"
   ]
  },
  {
   "cell_type": "code",
   "execution_count": 4,
   "id": "a09fce32",
   "metadata": {},
   "outputs": [
    {
     "name": "stderr",
     "output_type": "stream",
     "text": [
      "ibmqfactory.load_account:WARNING:2022-12-26 17:01:39,913: Credentials are already in use. The existing account in the session will be replaced.\n"
     ]
    },
    {
     "name": "stdout",
     "output_type": "stream",
     "text": [
      "==================================================\n",
      "Unitary Index : 1\n",
      "Name of Backend : ibmq_qasm_simulator\n",
      "Number of Total Shots : 1000\n",
      "Transpiled Quantum Circuit Depth : 547\n",
      "Simulation Result (counts) : {'0000': 508, '1000': 492}\n",
      "==================================================\n",
      "\n",
      "==================================================\n",
      "Unitary Index : 5\n",
      "Name of Backend : ibmq_qasm_simulator\n",
      "Number of Total Shots : 1000\n",
      "Transpiled Quantum Circuit Depth : 547\n",
      "Simulation Result (counts) : {'0000': 501, '1000': 499}\n",
      "==================================================\n",
      "\n",
      "==================================================\n",
      "Unitary Index : 9\n",
      "Name of Backend : ibmq_qasm_simulator\n",
      "Number of Total Shots : 1000\n",
      "Transpiled Quantum Circuit Depth : 547\n",
      "Simulation Result (counts) : {'0000': 489, '1000': 511}\n",
      "==================================================\n",
      "\n"
     ]
    },
    {
     "data": {
      "image/png": "[encoded data removed]",
      "text/plain": [
       "<Figure size 504x360 with 1 Axes>"
      ]
     },
     "execution_count": 4,
     "metadata": {},
     "output_type": "execute_result"
    }
   ],
   "source": [
    "ShorN6X5(shots=1000, backend_name=\"ibmq_qasm_simulator\", IsTwirl=True).SimulationQC()"
   ]
  },
  {
   "cell_type": "code",
   "execution_count": null,
   "id": "48ca497c",
   "metadata": {},
   "outputs": [
    {
     "name": "stderr",
     "output_type": "stream",
     "text": [
      "ibmqfactory.load_account:WARNING:2022-12-26 17:09:12,921: Credentials are already in use. The existing account in the session will be replaced.\n"
     ]
    },
    {
     "name": "stdout",
     "output_type": "stream",
     "text": [
      "==================================================\n",
      "Name of Backend : ibmq_jakarta\n",
      "Number of Total Shots : 1000\n",
      "Transpiled Quantum Circuit Depth : 5065\n"
     ]
    }
   ],
   "source": [
    "ShorN6X5(shots=1000, backend_name=\"ibmq_jakarta\", IsTwirl=False).SimulationQC()"
   ]
  },
  {
   "cell_type": "code",
   "execution_count": null,
   "id": "2c7c2905",
   "metadata": {},
   "outputs": [],
   "source": [
    "ShorN6X5(shots=1000, backend_name=\"ibmq_jakarta\", IsTwirl=True).SimulationQC()"
   ]
  },
  {
   "cell_type": "code",
   "execution_count": null,
   "id": "240d58d5",
   "metadata": {},
   "outputs": [],
   "source": [
    "ShorN6X5(shots=1000, backend_name=\"ibm_oslo\", IsTwirl=False).SimulationQC()"
   ]
  },
  {
   "cell_type": "code",
   "execution_count": null,
   "id": "5fee43e0",
   "metadata": {},
   "outputs": [],
   "source": [
    "ShorN6X5(shots=1000, backend_name=\"ibm_oslo\", IsTwirl=True).SimulationQC()"
   ]
  },
  {
   "cell_type": "code",
   "execution_count": null,
   "id": "c976dffb",
   "metadata": {},
   "outputs": [],
   "source": [
    "ShorN6X5(shots=1000, backend_name=\"ibm_nairobi\", IsTwirl=False).SimulationQC()"
   ]
  },
  {
   "cell_type": "code",
   "execution_count": null,
   "id": "9bedbb9e",
   "metadata": {},
   "outputs": [],
   "source": [
    "ShorN6X5(shots=1000, backend_name=\"ibm_nairobi\", IsTwirl=True).SimulationQC()"
   ]
  },
  {
   "cell_type": "code",
   "execution_count": null,
   "id": "96c1800f",
   "metadata": {},
   "outputs": [],
   "source": [
    "ShorN6X5(shots=1000, backend_name=\"ibm_lagos\", IsTwirl=False).SimulationQC()"
   ]
  },
  {
   "cell_type": "code",
   "execution_count": null,
   "id": "fa214745",
   "metadata": {},
   "outputs": [],
   "source": [
    "ShorN6X5(shots=1000, backend_name=\"ibm_lagos\", IsTwirl=True).SimulationQC()"
   ]
  },
  {
   "cell_type": "code",
   "execution_count": null,
   "id": "60b787ce",
   "metadata": {},
   "outputs": [],
   "source": [
    "ShorN6X5(shots=1000, backend_name=\"ibm_perth\", IsTwirl=False).SimulationQC()"
   ]
  },
  {
   "cell_type": "code",
   "execution_count": null,
   "id": "bb735de2",
   "metadata": {},
   "outputs": [],
   "source": [
    "ShorN6X5(shots=1000, backend_name=\"ibm_perth\", IsTwirl=True).SimulationQC()"
   ]
  },
  {
   "cell_type": "code",
   "execution_count": null,
   "id": "40ccfe59",
   "metadata": {},
   "outputs": [],
   "source": [
    "ShorN6X5(shots=1000, backend_name=\"ibmq_guadalupe\", IsTwirl=False).SimulationQC()"
   ]
  },
  {
   "cell_type": "code",
   "execution_count": null,
   "id": "e304c9ab",
   "metadata": {},
   "outputs": [],
   "source": [
    "ShorN6X5(shots=1000, backend_name=\"ibmq_guadalupe\", IsTwirl=True).SimulationQC()"
   ]
  },
  {
   "cell_type": "code",
   "execution_count": null,
   "id": "b9c570db",
   "metadata": {},
   "outputs": [],
   "source": [
    "ShorN6X5(shots=1000, backend_name=\"ibmq_toronto\", IsTwirl=False).SimulationQC()"
   ]
  },
  {
   "cell_type": "code",
   "execution_count": null,
   "id": "721207cb",
   "metadata": {},
   "outputs": [],
   "source": [
    "ShorN6X5(shots=1000, backend_name=\"ibmq_toronto\", IsTwirl=True).SimulationQC()"
   ]
  },
  {
   "cell_type": "code",
   "execution_count": null,
   "id": "c2c0b299",
   "metadata": {},
   "outputs": [],
   "source": [
    "ShorN6X5(shots=1000, backend_name=\"ibm_geneva\", IsTwirl=False).SimulationQC()"
   ]
  },
  {
   "cell_type": "code",
   "execution_count": null,
   "id": "51cd9adf",
   "metadata": {},
   "outputs": [],
   "source": [
    "ShorN6X5(shots=1000, backend_name=\"ibm_geneva\", IsTwirl=True).SimulationQC()"
   ]
  },
  {
   "cell_type": "code",
   "execution_count": null,
   "id": "6abc9e5a",
   "metadata": {},
   "outputs": [],
   "source": [
    "ShorN6X5(shots=1000, backend_name=\"ibm_hanoi\", IsTwirl=False).SimulationQC()"
   ]
  },
  {
   "cell_type": "code",
   "execution_count": null,
   "id": "01dead39",
   "metadata": {},
   "outputs": [],
   "source": [
    "ShorN6X5(shots=1000, backend_name=\"ibm_hanoi\", IsTwirl=True).SimulationQC()"
   ]
  },
  {
   "cell_type": "code",
   "execution_count": null,
   "id": "d830e7cd",
   "metadata": {},
   "outputs": [],
   "source": [
    "ShorN6X5(shots=1000, backend_name=\"ibm_auckland\", IsTwirl=False).SimulationQC()"
   ]
  },
  {
   "cell_type": "code",
   "execution_count": null,
   "id": "b7f3bb5b",
   "metadata": {},
   "outputs": [],
   "source": [
    "ShorN6X5(shots=1000, backend_name=\"ibm_auckland\", IsTwirl=True).SimulationQC()"
   ]
  },
  {
   "cell_type": "code",
   "execution_count": null,
   "id": "a86a9f3a",
   "metadata": {},
   "outputs": [],
   "source": [
    "ShorN6X5(shots=1000, backend_name=\"ibm_cairo\", IsTwirl=False).SimulationQC()"
   ]
  },
  {
   "cell_type": "code",
   "execution_count": null,
   "id": "e93c51a8",
   "metadata": {},
   "outputs": [],
   "source": [
    "ShorN6X5(shots=1000, backend_name=\"ibm_cairo\", IsTwirl=True).SimulationQC()"
   ]
  },
  {
   "cell_type": "code",
   "execution_count": null,
   "id": "0e41a830",
   "metadata": {},
   "outputs": [],
   "source": [
    "ShorN6X5(shots=1000, backend_name=\"ibmq_mumbai\", IsTwirl=False).SimulationQC()"
   ]
  },
  {
   "cell_type": "code",
   "execution_count": null,
   "id": "1559cf67",
   "metadata": {},
   "outputs": [],
   "source": [
    "ShorN6X5(shots=1000, backend_name=\"ibmq_mumbai\", IsTwirl=True).SimulationQC()"
   ]
  },
  {
   "cell_type": "code",
   "execution_count": null,
   "id": "5fc86e72",
   "metadata": {},
   "outputs": [],
   "source": [
    "ShorN6X5(shots=1000, backend_name=\"ibmq_montreal\", IsTwirl=False).SimulationQC()"
   ]
  },
  {
   "cell_type": "code",
   "execution_count": null,
   "id": "e6cf96b3",
   "metadata": {},
   "outputs": [],
   "source": [
    "ShorN6X5(shots=1000, backend_name=\"ibmq_montreal\", IsTwirl=True).SimulationQC()"
   ]
  },
  {
   "cell_type": "code",
   "execution_count": null,
   "id": "618cd957",
   "metadata": {},
   "outputs": [],
   "source": [
    "ShorN6X5(shots=1000, backend_name=\"ibmq_kolkata\", IsTwirl=False).SimulationQC()"
   ]
  },
  {
   "cell_type": "code",
   "execution_count": null,
   "id": "f9c32776",
   "metadata": {},
   "outputs": [],
   "source": [
    "ShorN6X5(shots=1000, backend_name=\"ibmq_kolkata\", IsTwirl=True).SimulationQC()"
   ]
  },
  {
   "cell_type": "code",
   "execution_count": null,
   "id": "a590d2f5",
   "metadata": {},
   "outputs": [],
   "source": [
    "ShorN6X5(shots=1000, backend_name=\"ibm_sherbrooke\", IsTwirl=False).SimulationQC()"
   ]
  },
  {
   "cell_type": "code",
   "execution_count": null,
   "id": "0cf73901",
   "metadata": {},
   "outputs": [],
   "source": [
    "ShorN6X5(shots=1000, backend_name=\"ibm_sherbrooke\", IsTwirl=True).SimulationQC()"
   ]
  },
  {
   "cell_type": "code",
   "execution_count": null,
   "id": "24f5a2a1",
   "metadata": {},
   "outputs": [],
   "source": [
    "ShorN6X5(shots=1000, backend_name=\"ibm_washington\", IsTwirl=False).SimulationQC()"
   ]
  },
  {
   "cell_type": "code",
   "execution_count": null,
   "id": "2afe45df",
   "metadata": {},
   "outputs": [],
   "source": [
    "ShorN6X5(shots=1000, backend_name=\"ibm_washington\", IsTwirl=True).SimulationQC()"
   ]
  },
  {
   "cell_type": "code",
   "execution_count": null,
   "id": "89979c62",
   "metadata": {},
   "outputs": [],
   "source": []
  }
 ],
 "metadata": {
  "kernelspec": {
   "display_name": "Python 3",
   "language": "python",
   "name": "python3"
  },
  "language_info": {
   "codemirror_mode": {
    "name": "ipython",
    "version": 3
   },
   "file_extension": ".py",
   "mimetype": "text/x-python",
   "name": "python",
   "nbconvert_exporter": "python",
   "pygments_lexer": "ipython3",
   "version": "3.8.8"
  }
 },
 "nbformat": 4,
 "nbformat_minor": 5
}
