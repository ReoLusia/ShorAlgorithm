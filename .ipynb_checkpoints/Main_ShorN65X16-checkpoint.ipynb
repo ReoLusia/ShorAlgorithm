{
 "cells": [
  {
   "cell_type": "code",
   "execution_count": 1,
   "id": "88ad65bf",
   "metadata": {},
   "outputs": [
    {
     "name": "stdout",
     "output_type": "stream",
     "text": [
      "0\n",
      "14\n"
     ]
    }
   ],
   "source": [
    "from ShorAlgorithm import ShorN35X16"
   ]
  },
  {
   "cell_type": "code",
   "execution_count": 2,
   "id": "bc2d1af7",
   "metadata": {},
   "outputs": [
    {
     "name": "stderr",
     "output_type": "stream",
     "text": [
      "ibmqfactory.load_account:WARNING:2023-04-04 14:16:44,704: Credentials are already in use. The existing account in the session will be replaced.\n"
     ]
    },
    {
     "name": "stdout",
     "output_type": "stream",
     "text": [
      "ibmq_qasm_simulator\n",
      "ibmq_lima\n",
      "ibmq_belem\n",
      "ibmq_quito\n",
      "simulator_statevector\n",
      "simulator_mps\n",
      "simulator_extended_stabilizer\n",
      "simulator_stabilizer\n",
      "ibmq_jakarta\n",
      "ibmq_manila\n",
      "ibm_lagos\n",
      "ibm_nairobi\n",
      "ibm_perth\n",
      "ibm_oslo\n"
     ]
    }
   ],
   "source": [
    "from qiskit import IBMQ\n",
    "\n",
    "provider = IBMQ.load_account()\n",
    "my_provider = IBMQ.get_provider(hub='ibm-q', group='open', project='main')\n",
    "backends = my_provider.backends()\n",
    "\n",
    "for backend in backends:\n",
    "    print(backend) # only available for 7-qubit device"
   ]
  },
  {
   "cell_type": "code",
   "execution_count": 3,
   "id": "9edd85dc",
   "metadata": {},
   "outputs": [
    {
     "name": "stderr",
     "output_type": "stream",
     "text": [
      "ibmqfactory.load_account:WARNING:2023-04-04 14:16:48,925: Credentials are already in use. The existing account in the session will be replaced.\n"
     ]
    },
    {
     "name": "stdout",
     "output_type": "stream",
     "text": [
      "0\n",
      "14\n",
      "==================================================\n",
      "Name of Backend : ibmq_qasm_simulator\n",
      "Number of Total Shots : 1000\n",
      "Transpiled Quantum Circuit Depth : 31\n",
      "Simulation Result (counts) : {'000': 341, '001': 19, '010': 53, '011': 231, '100': 32, '101': 232, '110': 74, '111': 18}\n",
      "==================================================\n"
     ]
    },
    {
     "data": {
      "image/png": "[encoded data removed]",
      "text/plain": [
       "<Figure size 504x360 with 1 Axes>"
      ]
     },
     "execution_count": 3,
     "metadata": {},
     "output_type": "execute_result"
    }
   ],
   "source": [
    "ShorN35X16(shots=1000, backend_name=\"ibmq_qasm_simulator\", IsTwirl=False).SimulationQC()"
   ]
  },
  {
   "cell_type": "code",
   "execution_count": 4,
   "id": "260d9040",
   "metadata": {},
   "outputs": [
    {
     "name": "stderr",
     "output_type": "stream",
     "text": [
      "ibmqfactory.load_account:WARNING:2023-04-04 14:17:00,021: Credentials are already in use. The existing account in the session will be replaced.\n"
     ]
    },
    {
     "name": "stdout",
     "output_type": "stream",
     "text": [
      "0\n",
      "14\n",
      "==================================================\n",
      "Unitary Index : 1\n",
      "Name of Backend : ibmq_qasm_simulator\n",
      "Number of Total Shots : 1000\n",
      "Transpiled Quantum Circuit Depth : 31\n",
      "Simulation Result (counts) : {'000': 368, '001': 17, '010': 60, '011': 217, '100': 31, '101': 247, '110': 51, '111': 9}\n",
      "==================================================\n",
      "\n",
      "==================================================\n",
      "Unitary Index : 5\n",
      "Name of Backend : ibmq_qasm_simulator\n",
      "Number of Total Shots : 1000\n",
      "Transpiled Quantum Circuit Depth : 32\n",
      "Simulation Result (counts) : {'000': 354, '001': 11, '010': 53, '011': 237, '100': 29, '101': 221, '110': 76, '111': 19}\n",
      "==================================================\n",
      "\n",
      "==================================================\n",
      "Unitary Index : 9\n",
      "Name of Backend : ibmq_qasm_simulator\n",
      "Number of Total Shots : 1000\n",
      "Transpiled Quantum Circuit Depth : 32\n",
      "Simulation Result (counts) : {'000': 366, '001': 15, '010': 69, '011': 235, '100': 27, '101': 219, '110': 54, '111': 15}\n",
      "==================================================\n",
      "\n"
     ]
    },
    {
     "data": {
      "image/png": "[encoded data removed]",
      "text/plain": [
       "<Figure size 504x360 with 1 Axes>"
      ]
     },
     "execution_count": 4,
     "metadata": {},
     "output_type": "execute_result"
    }
   ],
   "source": [
    "ShorN35X16(shots=1000, backend_name=\"ibmq_qasm_simulator\", IsTwirl=True).SimulationQC()"
   ]
  },
  {
   "cell_type": "code",
   "execution_count": null,
   "id": "a48a11b6",
   "metadata": {},
   "outputs": [
    {
     "name": "stderr",
     "output_type": "stream",
     "text": [
      "ibmqfactory.load_account:WARNING:2023-04-04 14:17:34,331: Credentials are already in use. The existing account in the session will be replaced.\n"
     ]
    },
    {
     "name": "stdout",
     "output_type": "stream",
     "text": [
      "12\n",
      "14\n",
      "==================================================\n",
      "Name of Backend : ibm_perth\n",
      "Number of Total Shots : 1000\n",
      "Transpiled Quantum Circuit Depth : 103\n"
     ]
    }
   ],
   "source": [
    "ShorN35X16(shots=1000, backend_name=\"ibm_perth\", IsTwirl=False).SimulationQC()"
   ]
  },
  {
   "cell_type": "code",
   "execution_count": null,
   "id": "a2627644",
   "metadata": {},
   "outputs": [],
   "source": [
    "ShorN35X16(shots=1000, backend_name=\"ibm_perth\", IsTwirl=True).SimulationQC()"
   ]
  },
  {
   "cell_type": "code",
   "execution_count": null,
   "id": "a16de6df",
   "metadata": {},
   "outputs": [],
   "source": [
    "ShorN35X16(shots=1000, backend_name=\"ibm_lagos\", IsTwirl=False).SimulationQC()"
   ]
  },
  {
   "cell_type": "code",
   "execution_count": null,
   "id": "8554749c",
   "metadata": {},
   "outputs": [],
   "source": [
    "ShorN35X16(shots=1000, backend_name=\"ibm_lagos\", IsTwirl=True).SimulationQC()"
   ]
  },
  {
   "cell_type": "code",
   "execution_count": null,
   "id": "87b6094d",
   "metadata": {},
   "outputs": [],
   "source": [
    "ShorN35X16(shots=1000, backend_name=\"ibm_nairobi\", IsTwirl=False).SimulationQC()"
   ]
  },
  {
   "cell_type": "code",
   "execution_count": null,
   "id": "2b011282",
   "metadata": {},
   "outputs": [],
   "source": [
    "ShorN35X16(shots=1000, backend_name=\"ibm_nairobi\", IsTwirl=True).SimulationQC()"
   ]
  },
  {
   "cell_type": "code",
   "execution_count": null,
   "id": "53ed2657",
   "metadata": {},
   "outputs": [],
   "source": [
    "ShorN35X16(shots=1000, backend_name=\"ibm_oslo\", IsTwirl=False).SimulationQC()"
   ]
  },
  {
   "cell_type": "code",
   "execution_count": null,
   "id": "3dd445e8",
   "metadata": {},
   "outputs": [],
   "source": [
    "ShorN35X16(shots=1000, backend_name=\"ibm_oslo\", IsTwirl=True).SimulationQC()"
   ]
  },
  {
   "cell_type": "code",
   "execution_count": null,
   "id": "7acb1e7b",
   "metadata": {},
   "outputs": [],
   "source": [
    "ShorN35X16(shots=1000, backend_name=\"ibmq_jakarta\", IsTwirl=False).SimulationQC()"
   ]
  },
  {
   "cell_type": "code",
   "execution_count": null,
   "id": "5f1bd6d2",
   "metadata": {},
   "outputs": [],
   "source": [
    "ShorN35X16(shots=1000, backend_name=\"ibmq_jakarta\", IsTwirl=True).SimulationQC()"
   ]
  }
 ],
 "metadata": {
  "kernelspec": {
   "display_name": "Python 3",
   "language": "python",
   "name": "python3"
  },
  "language_info": {
   "codemirror_mode": {
    "name": "ipython",
    "version": 3
   },
   "file_extension": ".py",
   "mimetype": "text/x-python",
   "name": "python",
   "nbconvert_exporter": "python",
   "pygments_lexer": "ipython3",
   "version": "3.8.8"
  }
 },
 "nbformat": 4,
 "nbformat_minor": 5
}
